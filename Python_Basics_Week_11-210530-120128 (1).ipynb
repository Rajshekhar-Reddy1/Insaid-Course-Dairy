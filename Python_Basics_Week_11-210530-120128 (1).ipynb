{
  "nbformat": 4,
  "nbformat_minor": 0,
  "metadata": {
    "colab": {
      "name": "Python Basics (Week - 1).ipynb",
      "provenance": [],
      "collapsed_sections": []
    },
    "kernelspec": {
      "name": "python3",
      "display_name": "Python 3"
    }
  },
  "cells": [
    {
      "cell_type": "markdown",
      "metadata": {
        "id": "MwNOjS1zcE6K"
      },
      "source": [
        "<center><img src=\"https://github.com/insaid2018/Term-1/blob/master/Images/INSAID_Full%20Logo.png?raw=true\" width=\"25%\" /></center>\n",
        "\n",
        "# <center><b>Python Basics<b></center>"
      ]
    },
    {
      "cell_type": "markdown",
      "metadata": {
        "id": "F7qmM7e9cRqx"
      },
      "source": [
        "---\n",
        "# **Table of Contents**\n",
        "---\n",
        "\n",
        "**1.** [**Introduction**](#Section1)<br>\n",
        "\n",
        "**2.** [**Keywords**](#Section2)<br>\n",
        "\n",
        "**3.** [**Identifiers**](#Section3)<br>\n",
        "\n",
        "**4.** [**Variables and Data Types**](#Section4)<br>\n",
        "  - **4.1** [**Variables**](#Section41)\n",
        "  - **4.2** [**Data Types**](#Section42)\n",
        "\n",
        "**5.** [**Python Input/Output Functions**](#Section5)<br>\n",
        "  - **5.1** [**Python Output**](#Section51)<br>\n",
        "  - **5.2** [**Python Input**](#Section51)<br>\n",
        "\n",
        "**6.** [**Operators**](#Section6)<br>\n",
        "  - **6.1** [**Arithmetic Operators**](#Section61)<br>\n",
        "  - **6.2** [**Comparison Operators**](#Section62)<br>\n",
        "  - **6.3** [**Logical Operators**](#Section63)<br>\n",
        "  - **6.4** [**Assignment Operators**](#Section64)<br>\n",
        "  - **6.5** [**Special Operators**](#Section65)<br>"
      ]
    },
    {
      "cell_type": "markdown",
      "metadata": {
        "id": "ILkQ1qCQEkUB"
      },
      "source": [
        "---\n",
        "<a name = Section1></a>\n",
        "# **1. Introduction**\n",
        "---\n",
        "\n",
        "- **Python** is a powerful **general-purpose** programming language. \n",
        "\n",
        "- It is used in **web development**, **data science**, **creating software prototypes**, and so on.\n",
        "\n",
        "- **Python** has simple **easy-to-use** syntax. \n",
        "\n",
        "\n"
      ]
    },
    {
      "cell_type": "markdown",
      "metadata": {
        "id": "x_nZz6xvGMTM"
      },
      "source": [
        "---\n",
        "<a name = Section2></a>\n",
        "# **2. Keywords**\n",
        "---\n",
        "\n",
        "- **Keywords** are **reserved** words that have **specific** meaning and cannot be used as **ordinary** variables.\n",
        "\n",
        "- They must be **spelled** exactly as they are **written**.\n",
        "<br>\n",
        "<table width='100%'>\n",
        "<tr><th>and</tc><th>del</tc><th>from</tc><th>not</tc><th>while</tc></tr>\n",
        "<tr><th>as</tc><th> elif</tc><th>global</tc><th>or</tc><th> with</tc></tr>\n",
        "<tr><th>assert</tc><th>else</tc><th>if</tc><th> pass</tc><th>yield</tc></tr>\n",
        "<tr><th>break</tc><th> except</tc><th>import</tc><th>print</tc></tr>\n",
        "<tr><th>class</tc><th> exec</tc><th>in</tc><th> raise</tc></tr>\n",
        "<tr><th>continue</tc><th>finally</tc><th> is</tc><th> return </tc></tr>\n",
        "<tr><th>def</tc><th>for</tc><th>lambda</tc><th>try</tc></tr>\n",
        "</table>\n"
      ]
    },
    {
      "cell_type": "code",
      "metadata": {
        "id": "10WxLgfuG7oM"
      },
      "source": [
        "## printing hello world\n",
        "\n",
        "print('Gaurav is very sincere')"
      ],
      "execution_count": null,
      "outputs": []
    },
    {
      "cell_type": "code",
      "metadata": {
        "id": "xuCOWg6KMOl0"
      },
      "source": [
        "!python --version\n"
      ],
      "execution_count": null,
      "outputs": []
    },
    {
      "cell_type": "code",
      "metadata": {
        "id": "yY5z2gVxDW1p"
      },
      "source": [
        "# Keywords of Python 3.7.10\n",
        "\n",
        "import keyword\n",
        "print(keyword.kwlist)\n",
        "print('The no. of keywords in python is {}'.format(len(keyword.kwlist)))"
      ],
      "execution_count": null,
      "outputs": []
    },
    {
      "cell_type": "markdown",
      "metadata": {
        "id": "1Y-tqRD7ITWk"
      },
      "source": [
        "---\n",
        "<a name = Section3></a>\n",
        "# **3. Identifiers**\n",
        "---\n",
        "\n",
        "- An **identifier** is a **user-defined** name to represent a variable, a function, a class, a module, or any other object.\n",
        "\n",
        "- It helps to **differentiate** one **entity** from **another**.\n",
        "\n",
        "- **Rules** for naming identifiers are –\n",
        "\n",
        "  - They are combination of letters in **lowercase** (a to z) or **uppercase** (A to Z) or **digits** (0 to 9) or an **underscore** ('_').\n",
        "\n",
        "  - An **identifier** cannot start with a **digit**. \n",
        "\n",
        "  - **Keywords** cannot be used as **identifiers**.\n",
        "\n",
        "  -  We cannot use **special characters** like !, @, #, $, % etc. in our identifier."
      ]
    },
    {
      "cell_type": "code",
      "metadata": {
        "id": "LwGxX0RFIKVY",
        "colab": {
          "base_uri": "https://localhost:8080/",
          "height": 133
        },
        "outputId": "bb788a8e-c073-4876-e87d-212006105a0f"
      },
      "source": [
        "12random = 10     "
      ],
      "execution_count": null,
      "outputs": [
        {
          "output_type": "error",
          "ename": "SyntaxError",
          "evalue": "ignored",
          "traceback": [
            "\u001b[0;36m  File \u001b[0;32m\"<ipython-input-7-350a0efdc833>\"\u001b[0;36m, line \u001b[0;32m1\u001b[0m\n\u001b[0;31m    12random = 10\u001b[0m\n\u001b[0m           ^\u001b[0m\n\u001b[0;31mSyntaxError\u001b[0m\u001b[0;31m:\u001b[0m invalid syntax\n"
          ]
        }
      ]
    },
    {
      "cell_type": "code",
      "metadata": {
        "id": "h5HzB6doJlKr",
        "colab": {
          "base_uri": "https://localhost:8080/"
        },
        "outputId": "4c4e27b0-99b7-40c4-a5e3-f2c55cc0c17d"
      },
      "source": [
        "srikath_ab = 10      \n",
        "print(srikath_ab)"
      ],
      "execution_count": null,
      "outputs": [
        {
          "output_type": "stream",
          "text": [
            "10\n"
          ],
          "name": "stdout"
        }
      ]
    },
    {
      "cell_type": "code",
      "metadata": {
        "id": "Y9djMiPOJveX"
      },
      "source": [
        "def = 1          "
      ],
      "execution_count": null,
      "outputs": []
    },
    {
      "cell_type": "code",
      "metadata": {
        "id": "vVUUtxHBJ5hA"
      },
      "source": [
        "_hello = 20       "
      ],
      "execution_count": null,
      "outputs": []
    },
    {
      "cell_type": "code",
      "metadata": {
        "id": "ig9w_E1RL8Or",
        "colab": {
          "base_uri": "https://localhost:8080/"
        },
        "outputId": "afdac010-e253-4bd9-e851-8af92e64513e"
      },
      "source": [
        "hello = 1\n",
        "print('hello: ',hello)\n",
        "\n",
        "hello123 = 1\n",
        "print('hello123: ',hello123)\n",
        "\n",
        "hello_1 = 1\n",
        "print('hello_1: ',hello_1)"
      ],
      "execution_count": null,
      "outputs": [
        {
          "output_type": "stream",
          "text": [
            "hello:  1\n",
            "hello123:  1\n",
            "hello_1:  1\n"
          ],
          "name": "stdout"
        }
      ]
    },
    {
      "cell_type": "markdown",
      "metadata": {
        "id": "u3jt43egN9o1"
      },
      "source": [
        "---\n",
        "<a name = Section4></a>\n",
        "# **4. Variables and Data Types**\n",
        "---"
      ]
    },
    {
      "cell_type": "markdown",
      "metadata": {
        "id": "Wibr6kmzSNuy"
      },
      "source": [
        "#### **4.1 Variables**\n",
        "\n",
        " - A **variable** is an **alias** given to a location in **memory** that is used to **store** some **data** (value).\n",
        "\n",
        "- Each data point stored in the **memory** is given **unique** name to **differentiate** between different **memory** locations (and thus data points).\n"
      ]
    },
    {
      "cell_type": "markdown",
      "metadata": {
        "id": "6lXbXFBJMk7-"
      },
      "source": [
        "##### **4.1.1 Variable assignments**\n",
        "\n",
        "- We use the **assignment operator (=)** to assign values to a variable"
      ]
    },
    {
      "cell_type": "code",
      "metadata": {
        "id": "q31nvhH4Mk7_",
        "colab": {
          "base_uri": "https://localhost:8080/"
        },
        "outputId": "6e730c81-58ab-4855-9cb8-e2eb6700b4a1"
      },
      "source": [
        "intergerNumber = 4\n",
        "decimalNumber = 22.2\n",
        "stringVariable = 12.2\n",
        "print(intergerNumber, decimalNumber, stringVariable)\n",
        "\n",
        "type(stringVariable)"
      ],
      "execution_count": null,
      "outputs": [
        {
          "output_type": "stream",
          "text": [
            "4 22.2 12.2\n"
          ],
          "name": "stdout"
        },
        {
          "output_type": "execute_result",
          "data": {
            "text/plain": [
              "float"
            ]
          },
          "metadata": {
            "tags": []
          },
          "execution_count": 17
        }
      ]
    },
    {
      "cell_type": "markdown",
      "metadata": {
        "id": "iLm7CzakMk7_"
      },
      "source": [
        "##### **4.1.2 Multiple assignments**\n",
        "\n",
        "- Use comma to seperate the variables and their corresponding values"
      ]
    },
    {
      "cell_type": "code",
      "metadata": {
        "id": "RnlHA0DTMk8A",
        "colab": {
          "base_uri": "https://localhost:8080/"
        },
        "outputId": "4b058a40-1790-48ea-d3b1-c16ecf2d771d"
      },
      "source": [
        "intergerNumber, decimalNumber, stringVariable = 4, 22.2, \"StringValue\"\n",
        "print(\"intergerNumber, decimalNumber, stringVariable\")"
      ],
      "execution_count": null,
      "outputs": [
        {
          "output_type": "stream",
          "text": [
            "intergerNumber, decimalNumber, stringVariable\n"
          ],
          "name": "stdout"
        }
      ]
    },
    {
      "cell_type": "markdown",
      "metadata": {
        "id": "y1CIrEJoMk8A"
      },
      "source": [
        "- To **initialize** multiple variables with **same** value use 1 assignment"
      ]
    },
    {
      "cell_type": "code",
      "metadata": {
        "id": "H7ie9FhFMk8A"
      },
      "source": [
        "variable1=variable2=variable3 = 10\n",
        "print(variable1,variable2,variable3)"
      ],
      "execution_count": null,
      "outputs": []
    },
    {
      "cell_type": "markdown",
      "metadata": {
        "collapsed": true,
        "id": "Y_mI3v4SMk8B"
      },
      "source": [
        "##### **4.1.3 Storage Locations**"
      ]
    },
    {
      "cell_type": "code",
      "metadata": {
        "id": "-_6q4yMih5jZ"
      },
      "source": [
        "a = 9\n",
        "b = 9"
      ],
      "execution_count": null,
      "outputs": []
    },
    {
      "cell_type": "code",
      "metadata": {
        "id": "oeh27OtZMk8B",
        "colab": {
          "base_uri": "https://localhost:8080/"
        },
        "outputId": "da126ff9-bb7a-474d-82f9-2f8ae93c5dca"
      },
      "source": [
        "id(a)               #print address of variable: 'intergerNumber'"
      ],
      "execution_count": null,
      "outputs": [
        {
          "output_type": "execute_result",
          "data": {
            "text/plain": [
              "94690832280320"
            ]
          },
          "metadata": {
            "tags": []
          },
          "execution_count": 30
        }
      ]
    },
    {
      "cell_type": "code",
      "metadata": {
        "id": "D9pDP4rJMk8B",
        "colab": {
          "base_uri": "https://localhost:8080/"
        },
        "outputId": "873bd672-72a5-4975-91d7-6e2ec790bd2f"
      },
      "source": [
        "id(b)               #print address of variable: 'decimalNumber'"
      ],
      "execution_count": null,
      "outputs": [
        {
          "output_type": "execute_result",
          "data": {
            "text/plain": [
              "94690832280320"
            ]
          },
          "metadata": {
            "tags": []
          },
          "execution_count": 31
        }
      ]
    },
    {
      "cell_type": "markdown",
      "metadata": {
        "id": "b0Md4YPcSk5b"
      },
      "source": [
        "### **4.2 Data Types**\n",
        "\n",
        "- Every value in **Python** has a datatype.\n",
        "\n",
        "- There are various **data types** in Python. Some of the **important** types are listed below.\n",
        "\n",
        "<center><img width=\"60%\" src=\"https://raw.githubusercontent.com/insaid2018/Term-2/master/Data%20types.png\"></center>"
      ]
    },
    {
      "cell_type": "markdown",
      "metadata": {
        "id": "tzd4-Nj-Mk8C"
      },
      "source": [
        "#### **4.2.1 Python Numbers**\n",
        "\n",
        "- **Integers**, **floating point** numbers and **complex** numbers falls under **Python numbers** category. \n",
        "\n",
        "- They are defined as **int**, **float** and **complex** class in Python.\n",
        "\n",
        "\n",
        "We can use the <b>type()</b> function to know which class a variable or a value belongs to <br/> and the <b>isinstance()</b> function to check if an object belongs to a particular class."
      ]
    },
    {
      "cell_type": "code",
      "metadata": {
        "id": "S1nj7f_4Mk8C",
        "colab": {
          "base_uri": "https://localhost:8080/"
        },
        "outputId": "dc19e59f-058c-4b70-e9b5-85b3f3c930cf"
      },
      "source": [
        "data1 = 12                               # integer data type\n",
        "print(data1, \" is of type\", type(data1))"
      ],
      "execution_count": null,
      "outputs": [
        {
          "output_type": "stream",
          "text": [
            "12  is of type <class 'int'>\n"
          ],
          "name": "stdout"
        }
      ]
    },
    {
      "cell_type": "code",
      "metadata": {
        "id": "3ouZMMVwMk8D",
        "colab": {
          "base_uri": "https://localhost:8080/"
        },
        "outputId": "0135b298-9f99-4dcc-ae75-ca32a7a3aab1"
      },
      "source": [
        "data2 = 12.4588                            # float data type\n",
        "print(data2, \" is of type\", type(data2))"
      ],
      "execution_count": null,
      "outputs": [
        {
          "output_type": "stream",
          "text": [
            "12.4588  is of type <class 'float'>\n"
          ],
          "name": "stdout"
        }
      ]
    },
    {
      "cell_type": "code",
      "metadata": {
        "id": "UW2SEknjMk8D",
        "colab": {
          "base_uri": "https://localhost:8080/"
        },
        "outputId": "7a5d9838-60e3-425e-c900-de11c349139e"
      },
      "source": [
        "data3 = 100+5j                       #data type is changed to complex number\n",
        "print(type(data3))"
      ],
      "execution_count": null,
      "outputs": [
        {
          "output_type": "stream",
          "text": [
            "<class 'complex'>\n"
          ],
          "name": "stdout"
        }
      ]
    },
    {
      "cell_type": "markdown",
      "metadata": {
        "id": "pdjt5ZSQMk8D"
      },
      "source": [
        "#### **4.2.2 Boolean**\n",
        "\n",
        "- **Boolean** represents **True** or **False** values"
      ]
    },
    {
      "cell_type": "code",
      "metadata": {
        "id": "SkdNFK6BMk8E",
        "colab": {
          "base_uri": "https://localhost:8080/"
        },
        "outputId": "c5c28a9c-1a2b-40c8-faf0-524013fa04e6"
      },
      "source": [
        "booleanVariable = False                          # 'booleanVariable' is a boolean type & True is a keyword\n",
        "print(type(booleanVariable))"
      ],
      "execution_count": null,
      "outputs": [
        {
          "output_type": "stream",
          "text": [
            "<class 'bool'>\n"
          ],
          "name": "stdout"
        }
      ]
    },
    {
      "cell_type": "markdown",
      "metadata": {
        "id": "py9mqcc4Mk8E"
      },
      "source": [
        "#### **4.2.3 Python Strings**\n",
        "\n",
        "- **String** is sequence of Unicode characters. We can use single quotes or double quotes to represent strings. \n",
        "\n",
        "- **Multi-line** strings can be denoted using triple quotes(single/double)\n",
        "\n",
        "- A **string** in Python consists of a series or sequence of characters - letters, numbers, and special characters.\n",
        "\n",
        "- **Strings** can be **indexed** - often synonymously called subscripted as well.\n",
        "\n",
        "- The first **character** of a string has the index **0**."
      ]
    },
    {
      "cell_type": "code",
      "metadata": {
        "id": "XHicKXHDMk8E",
        "colab": {
          "base_uri": "https://localhost:8080/"
        },
        "outputId": "b99d8be4-e0f1-41ca-f561-0ad560a9758c"
      },
      "source": [
        "stringVariable = \"Sudhir\"\n",
        "print('stringVariable is : ',stringVariable)\n",
        "print('First character in stringVariable is : ',stringVariable[0])"
      ],
      "execution_count": null,
      "outputs": [
        {
          "output_type": "stream",
          "text": [
            "stringVariable is :  Sudhir\n",
            "First character in stringVariable is :  S\n"
          ],
          "name": "stdout"
        }
      ]
    },
    {
      "cell_type": "code",
      "metadata": {
        "colab": {
          "base_uri": "https://localhost:8080/"
        },
        "id": "d2zI6GEYi_kP",
        "outputId": "2daf3d22-3cc3-423b-d940-dcd31399ef04"
      },
      "source": [
        "print(stringVariable[::-1])"
      ],
      "execution_count": null,
      "outputs": [
        {
          "output_type": "stream",
          "text": [
            "rihduS\n"
          ],
          "name": "stdout"
        }
      ]
    },
    {
      "cell_type": "code",
      "metadata": {
        "id": "HCbs2HqjMk8E"
      },
      "source": [
        "# Slicing of String variable\n",
        "print(stringVariable[0:6])\n",
        "print(stringVariable[:7])\n",
        "print(stringVariable[5:7])"
      ],
      "execution_count": null,
      "outputs": []
    },
    {
      "cell_type": "markdown",
      "metadata": {
        "id": "V3nV362RkSU2"
      },
      "source": [
        "---\n",
        "<a name = Section5></a>\n",
        "# **5. Python Input/Output Functions**\n",
        "---\n",
        "\n"
      ]
    },
    {
      "cell_type": "markdown",
      "metadata": {
        "id": "dJ-DwIxekoHN"
      },
      "source": [
        "#### **5.1. Python Output**\n",
        "\n",
        "- To see the output on the screen(standard output device), use the <b>print()</b> function "
      ]
    },
    {
      "cell_type": "code",
      "metadata": {
        "id": "3YhzGYhIj877"
      },
      "source": [
        "print(\"Hello World\")"
      ],
      "execution_count": null,
      "outputs": []
    },
    {
      "cell_type": "code",
      "metadata": {
        "id": "v9TzT6ZylVwU"
      },
      "source": [
        "my_int = 400\n",
        "print(\"The value of myInt is\", my_int)"
      ],
      "execution_count": null,
      "outputs": []
    },
    {
      "cell_type": "markdown",
      "metadata": {
        "id": "udvGuIjdoUdM"
      },
      "source": [
        "#### **5.2 Python Input**\n",
        "\n",
        "- User inputs can be taken in Python by using the **input() function**. "
      ]
    },
    {
      "cell_type": "code",
      "metadata": {
        "id": "RO6iZQGsoIbz",
        "colab": {
          "base_uri": "https://localhost:8080/"
        },
        "outputId": "94569c04-2072-4f9d-9944-50543388711f"
      },
      "source": [
        "user_input = input(\"Enter your age: \")\n",
        "print(\"Your age is: \",user_input)"
      ],
      "execution_count": null,
      "outputs": [
        {
          "output_type": "stream",
          "text": [
            "Enter your age: 45\n",
            "Your age is:  45\n"
          ],
          "name": "stdout"
        }
      ]
    },
    {
      "cell_type": "markdown",
      "metadata": {
        "id": "aQmY5meVBla0"
      },
      "source": [
        "---\n",
        "<a name = Section6></a>\n",
        "# **6. Operators**\n",
        "---"
      ]
    },
    {
      "cell_type": "markdown",
      "metadata": {
        "id": "Xp4r1LgxXDlF"
      },
      "source": [
        "\n",
        "\n",
        "- **Operators** are special symbols in Python that carry out **mathematical or logical computation.**\n",
        "- The **value** that the operator operates on is called the **operand.**\n",
        "- Consider the expression 4 + 5 = 9. Here, **4 and 5** are called **operands** and **+** is called **operator**."
      ]
    },
    {
      "cell_type": "markdown",
      "metadata": {
        "id": "ne5t9RwCYInJ"
      },
      "source": [
        "**Types of Operators -**\n",
        "\n",
        "- Arithmetic operators\n",
        "\n",
        "- Comparison (Relational) operators\n",
        "\n",
        "- Logical (Boolean) operators\n",
        "\n",
        "- Bitwise operators (This part can be skipped as it is not necessary for data science learning.)\n",
        "\n",
        "- Assignment operators\n",
        "\n",
        "- Special operators"
      ]
    },
    {
      "cell_type": "markdown",
      "metadata": {
        "id": "HenEFAFPYYPW"
      },
      "source": [
        "#### **6.1 Arithmetic Operators**\n",
        "\n",
        "- Arithmetic operators are used to perform mathematical operations like **addition, subtraction, multiplication** etc."
      ]
    },
    {
      "cell_type": "markdown",
      "metadata": {
        "id": "eN-fijdO82r3"
      },
      "source": [
        "\n",
        "```\n",
        "+, -,*, /, %, //, ** are arithmetic operators\n",
        "```\n",
        "\n",
        "\n"
      ]
    },
    {
      "cell_type": "markdown",
      "metadata": {
        "id": "gK0-HsgsZXHY"
      },
      "source": [
        "**Example -**"
      ]
    },
    {
      "cell_type": "code",
      "metadata": {
        "id": "ygHdHMZjlXCV",
        "colab": {
          "base_uri": "https://localhost:8080/"
        },
        "outputId": "755f350e-7c32-4c74-d1d5-4b58ccd164b3"
      },
      "source": [
        "var1, var2 = 5,3\n",
        "sum = var1 + var2\n",
        "print(sum)"
      ],
      "execution_count": null,
      "outputs": [
        {
          "output_type": "stream",
          "text": [
            "8\n"
          ],
          "name": "stdout"
        }
      ]
    },
    {
      "cell_type": "code",
      "metadata": {
        "id": "NVpAzSvSYtxR",
        "colab": {
          "base_uri": "https://localhost:8080/"
        },
        "outputId": "5ea15977-e1af-4c64-f383-779782c121d6"
      },
      "source": [
        "var1, var2 = 5.6, 2\n",
        "\n",
        "print(\"Sum\" ,(var1 + var2))  # Addition(+)\n",
        "\n",
        "print(\"Difference\", (var1 - var2))  # Subtraction(-)\n",
        "\n",
        "print(\"Product\", (var1 * var2))  # Multiplication(*)\n",
        "\n",
        "print(\"Quotient\", (var1 / var2))  # Division(/)\n",
        "\n",
        "print(\"Remainder\", (var1 % var2))  # Modulo division (%)\n",
        "\n",
        "print(\"Floor Division\", (var1 // var2)) # Floor Division (//)\n",
        "\n",
        "print(var1 ** var2) # Exponent (**)"
      ],
      "execution_count": null,
      "outputs": [
        {
          "output_type": "stream",
          "text": [
            "Sum 7.6\n",
            "Difference 3.5999999999999996\n",
            "Product 11.2\n",
            "Quotient 2.8\n",
            "Remainder 1.5999999999999996\n",
            "Floor Division 2.0\n",
            "31.359999999999996\n"
          ],
          "name": "stdout"
        }
      ]
    },
    {
      "cell_type": "markdown",
      "metadata": {
        "id": "pUnWF6dJbEg3"
      },
      "source": [
        "#### **6.2 Comparison Operator**\n",
        "\n",
        "- Comparison operators are used to **compare values**. It either **returns True or False** according to the condition."
      ]
    },
    {
      "cell_type": "markdown",
      "metadata": {
        "id": "bwIwSaoubTBO"
      },
      "source": [
        "\n",
        "    >, <, ==, !=, >=, <= are comparision operators\n",
        "\n",
        "\n",
        "\n",
        "\n",
        "\n",
        "\n",
        "\n"
      ]
    },
    {
      "cell_type": "markdown",
      "metadata": {
        "id": "14k0mLb9d7t0"
      },
      "source": [
        "**Example -**"
      ]
    },
    {
      "cell_type": "code",
      "metadata": {
        "id": "s8GjUUjQpH0r",
        "colab": {
          "base_uri": "https://localhost:8080/"
        },
        "outputId": "995d718a-0737-4ef7-a9db-4f3850861f73"
      },
      "source": [
        "var1, var2 = 10, 2         \n",
        "\n",
        "print(var1 < var2)   # Check if var1 is less than var2\n",
        "\n",
        "print(var1 > var2)   # Check if var1 is greater than var2\n",
        "\n",
        "print(var1 == var2)  # Check if var1 is equal to var2\n",
        "\n",
        "print(var1 != var2)  # Check if var1 is not equal to var2 \n",
        "\n",
        "print(var1 >= var2)  # Check if var1 greater than or equal to var2\n",
        "\n",
        "print(var1 <= var2)  # Check if var1 less than or equal to var2"
      ],
      "execution_count": null,
      "outputs": [
        {
          "output_type": "stream",
          "text": [
            "False\n",
            "True\n",
            "False\n",
            "True\n",
            "True\n",
            "False\n"
          ],
          "name": "stdout"
        }
      ]
    },
    {
      "cell_type": "markdown",
      "metadata": {
        "id": "_4625Ixp6_bP"
      },
      "source": [
        "#### **6.3 Logical Operators**"
      ]
    },
    {
      "cell_type": "markdown",
      "metadata": {
        "id": "5Q6o4YCX7C3H"
      },
      "source": [
        "- Logical operators are **and, or, not** operators.\n",
        "\n"
      ]
    },
    {
      "cell_type": "markdown",
      "metadata": {
        "id": "NOLqATK5d_Yx"
      },
      "source": [
        "**Example -**"
      ]
    },
    {
      "cell_type": "code",
      "metadata": {
        "id": "5ksA5CGJa683"
      },
      "source": [
        "var1, var2 = True, False"
      ],
      "execution_count": null,
      "outputs": []
    },
    {
      "cell_type": "markdown",
      "metadata": {
        "id": "9l04_WVFbIuv"
      },
      "source": [
        "**AND operation**\n",
        "\n",
        "| Input 1 | Input 2 | Output |\n",
        "| :------------- | :----------: | -----------: |\n",
        "| 0 | 0 | 0 |\n",
        "| 0 | 1 | 0 |\n",
        "| 1 | 0 | 0 |\n",
        "| 1 | 1 | 1 |"
      ]
    },
    {
      "cell_type": "code",
      "metadata": {
        "id": "ZYcpxkMdcO0h",
        "colab": {
          "base_uri": "https://localhost:8080/"
        },
        "outputId": "b7764f0b-e607-4d04-c875-492ffdc0290c"
      },
      "source": [
        "# Print var1 and var2\n",
        "print(var1 and var2) "
      ],
      "execution_count": null,
      "outputs": [
        {
          "output_type": "stream",
          "text": [
            "False\n"
          ],
          "name": "stdout"
        }
      ]
    },
    {
      "cell_type": "markdown",
      "metadata": {
        "id": "wu6lfPS-cSpA"
      },
      "source": [
        "**OR operation**\n",
        "\n",
        "| Input 1 | Input 2 | Output |\n",
        "| :------------- | :----------: | -----------: |\n",
        "| 0 | 0 | 0 |\n",
        "| 0 | 1 | 1 |\n",
        "| 1 | 0 | 1 |\n",
        "| 1 | 1 | 1 |"
      ]
    },
    {
      "cell_type": "code",
      "metadata": {
        "id": "HAdBBBi7cYbi"
      },
      "source": [
        "# Print var1 or var2\n",
        "print(var1 or var2)  "
      ],
      "execution_count": null,
      "outputs": []
    },
    {
      "cell_type": "markdown",
      "metadata": {
        "id": "VH5I1fAlcdFL"
      },
      "source": [
        "**NOT operation**\n",
        "\n",
        "| Input | Output |\n",
        "| :------------- | :----------: | \n",
        "| 0 | 1 |\n",
        "| 1 | 0 |"
      ]
    },
    {
      "cell_type": "code",
      "metadata": {
        "id": "CLBoTSj0cruR"
      },
      "source": [
        "# Print not var2\n",
        "print(not var2)          "
      ],
      "execution_count": null,
      "outputs": []
    },
    {
      "cell_type": "markdown",
      "metadata": {
        "id": "YsLo8uTw-WXi"
      },
      "source": [
        "#### **6.4 Assignment Operators**"
      ]
    },
    {
      "cell_type": "markdown",
      "metadata": {
        "id": "liJOcfYX-gJy"
      },
      "source": [
        "- Assignment operators are used in Python to **assign values to variables**.\n",
        "\n",
        "- **age = 50** is a simple assignment operator that assigns the value 50 on the right to the variable (age) a on the left."
      ]
    },
    {
      "cell_type": "markdown",
      "metadata": {
        "id": "nrf2YFhQ-nKJ"
      },
      "source": [
        "\n",
        "\n",
        "```\n",
        "=,  +=,  -=,  *=,  /=,  %=,  //=,  **=, &=,  ^=,  >>=,  <<= are Assignment operators\n",
        "```\n",
        "\n"
      ]
    },
    {
      "cell_type": "markdown",
      "metadata": {
        "id": "eAAA2wnzeDXD"
      },
      "source": [
        "**Example -**"
      ]
    },
    {
      "cell_type": "code",
      "metadata": {
        "id": "IHTQM2NCAegh",
        "colab": {
          "base_uri": "https://localhost:8080/"
        },
        "outputId": "76894f79-78a6-4e89-9307-6e8647b5b8d5"
      },
      "source": [
        "a = 4\n",
        "a+=4\n",
        "a"
      ],
      "execution_count": null,
      "outputs": [
        {
          "output_type": "execute_result",
          "data": {
            "text/plain": [
              "8"
            ]
          },
          "metadata": {
            "tags": []
          },
          "execution_count": 8
        }
      ]
    },
    {
      "cell_type": "code",
      "metadata": {
        "id": "Sl_635awAXkz",
        "colab": {
          "base_uri": "https://localhost:8080/"
        },
        "outputId": "1415c7b3-1914-4f12-ae63-90a33d7ee5fe"
      },
      "source": [
        "a = 4\n",
        "a = a+4\n",
        "a"
      ],
      "execution_count": null,
      "outputs": [
        {
          "output_type": "execute_result",
          "data": {
            "text/plain": [
              "8"
            ]
          },
          "metadata": {
            "tags": []
          },
          "execution_count": 9
        }
      ]
    },
    {
      "cell_type": "code",
      "metadata": {
        "id": "3aPWDxhI1fYY"
      },
      "source": [
        "age = 4\n",
        "age1= 5"
      ],
      "execution_count": null,
      "outputs": []
    },
    {
      "cell_type": "code",
      "metadata": {
        "id": "6zbbr7ek1iFX"
      },
      "source": [
        "age+=4\n",
        "print(age1)\n",
        "age"
      ],
      "execution_count": null,
      "outputs": []
    },
    {
      "cell_type": "code",
      "metadata": {
        "id": "p-J1Jcb--QNY"
      },
      "source": [
        "age = 4\n",
        "\n",
        "age += 4        # Add AND  <- age = age + 4\n",
        "print(age)\n",
        "\n",
        "age -= 7        # Subtract AND (-=)\n",
        "print(age)\n",
        "\n",
        "age *= 4        # Multiply AND (*=)\n",
        "print(age)\n",
        "\n",
        "age /= 4        # Divide AND (/=)\n",
        "print(age)\n",
        "\n",
        "age %= 20       # Modulus AND (%=)\n",
        "print(age)\n",
        "\n",
        "age //= 4       # Floor Division (//=)\n",
        "print(age)\n",
        "\n",
        "age **= 4       # Exponent AND (**=)\n",
        "print(age)"
      ],
      "execution_count": null,
      "outputs": []
    },
    {
      "cell_type": "code",
      "metadata": {
        "id": "-QybFRSFpI8K"
      },
      "source": [
        ""
      ],
      "execution_count": null,
      "outputs": []
    }
  ]
}